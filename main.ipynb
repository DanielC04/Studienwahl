{
 "cells": [
  {
   "cell_type": "code",
   "execution_count": null,
   "metadata": {},
   "outputs": [],
   "source": [
    "\n"
   ]
  },
  {
   "cell_type": "code",
   "execution_count": 2,
   "metadata": {},
   "outputs": [
    {
     "data": {
      "text/markdown": [
       "*some markdown* $\\phi$"
      ],
      "text/plain": [
       "<IPython.core.display.Markdown object>"
      ]
     },
     "metadata": {},
     "output_type": "display_data"
    }
   ],
   "source": [
    "from IPython.display import display, Markdown\n",
    "\n",
    "# format of universities: {\"name\": }\n",
    "\n",
    "categories = [\"name\", \"Uniranking\", \"Internationalität\", \"Studiengänge\", \"Möglichkeite für Master\", \"Campus\", \"Finanzielle Unterstützung von Projekten\", \"Forschungsprojekte\"]\n",
    "\n",
    "university_data = [\n",
    "]\n",
    "\n",
    "\n",
    "display(Markdown('*some markdown* $\\phi$'))\n",
    "\n",
    "\n",
    "class WeightedTable:\n",
    "\tdef __init__(self, universities) -> None:\n",
    "\t\tself.weights = []\t\n",
    "\t\tself.columnHeadings = []\n",
    "\t\tself.rowHeadings = []\n",
    "\t\tself.rows = []\n",
    "\t\n",
    "\n",
    "\n",
    "\n",
    "\n",
    "\n"
   ]
  },
  {
   "attachments": {},
   "cell_type": "markdown",
   "metadata": {},
   "source": [
    "| Id | Name |  |\n",
    "| ----------------- | ---------------- | -------- |\n",
    "| 0 | Gaussian         | .843     |\n"
   ]
  }
 ],
 "metadata": {
  "kernelspec": {
   "display_name": "Python 3",
   "language": "python",
   "name": "python3"
  },
  "language_info": {
   "codemirror_mode": {
    "name": "ipython",
    "version": 3
   },
   "file_extension": ".py",
   "mimetype": "text/x-python",
   "name": "python",
   "nbconvert_exporter": "python",
   "pygments_lexer": "ipython3",
   "version": "3.8.10"
  },
  "orig_nbformat": 4,
  "vscode": {
   "interpreter": {
    "hash": "31f2aee4e71d21fbe5cf8b01ff0e069b9275f58929596ceb00d14d90e3e16cd6"
   }
  }
 },
 "nbformat": 4,
 "nbformat_minor": 2
}
